{
 "cells": [
  {
   "cell_type": "code",
   "execution_count": null,
   "metadata": {},
   "outputs": [],
   "source": [
    "#| hide\n",
    "from budget_cli.budget import *"
   ]
  },
  {
   "cell_type": "markdown",
   "metadata": {},
   "source": [
    "# budget_cli\n",
    "\n",
    "> A command-line budget calculator"
   ]
  },
  {
   "cell_type": "markdown",
   "metadata": {},
   "source": [
    "A console script written in the Python programming language that helps you to calculate the total budget for a given period between two dates.\n",
    "\n",
    "This documentation was created with [nbdev](https://github.com/fastai/nbdev)."
   ]
  },
  {
   "cell_type": "markdown",
   "metadata": {},
   "source": [
    "## Install"
   ]
  },
  {
   "cell_type": "markdown",
   "metadata": {},
   "source": [
    "```sh\n",
    "pip install budget\n",
    "```"
   ]
  },
  {
   "cell_type": "markdown",
   "metadata": {},
   "source": [
    "## How to use"
   ]
  },
  {
   "cell_type": "markdown",
   "metadata": {},
   "source": [
    "The simplest usage example:"
   ]
  },
  {
   "cell_type": "code",
   "execution_count": null,
   "metadata": {},
   "outputs": [
    {
     "name": "stdout",
     "output_type": "stream",
     "text": [
      "18.0\n"
     ]
    }
   ],
   "source": [
    "! budget 1 20230813 20230902"
   ]
  },
  {
   "cell_type": "markdown",
   "metadata": {},
   "source": [
    "This means that if the daily budget is 1 dollar, and if we are budgeting for only six days in each week (i.e. only from Monday to Saturday), the total budget for the period from 13 August 2023 to 2 September 2023 would come to 18 dollars."
   ]
  },
  {
   "cell_type": "markdown",
   "metadata": {},
   "source": [
    "We can change the budgeting to be for all seven days of each week by specifying the `--days_in_week` option with a value of 7:"
   ]
  },
  {
   "cell_type": "code",
   "execution_count": null,
   "metadata": {},
   "outputs": [
    {
     "name": "stdout",
     "output_type": "stream",
     "text": [
      "21.0\n"
     ]
    }
   ],
   "source": [
    "! budget 1 20230813 20230902 --days_in_week 7"
   ]
  },
  {
   "cell_type": "markdown",
   "metadata": {},
   "source": [
    "In this case, the total budget for the period becomes 21 dollars.\n",
    "\n",
    "The default value of the `days_in_week` argument is 6."
   ]
  },
  {
   "cell_type": "markdown",
   "metadata": {},
   "source": [
    "We can also specify the daily weights to apply.  For example:"
   ]
  },
  {
   "cell_type": "code",
   "execution_count": null,
   "metadata": {},
   "outputs": [
    {
     "name": "stdout",
     "output_type": "stream",
     "text": [
      "21.0\n"
     ]
    }
   ],
   "source": [
    "! budget 1 20230813 20230902 --weights '[1,2,1,1,1,1,0]'"
   ]
  },
  {
   "cell_type": "markdown",
   "metadata": {},
   "source": [
    "Here, the specified `--weights` means that we want to apply a multiplier of 1 on every Monday, Wednesday, Thursday, Friday, and Saturday; a multiplier of 2 on every Tuesday; and, a multiplier of 0 on every Sunday.  The total budget would be 21 dollars.\n",
    "\n",
    "**Note**: When the `--weights` option is used, it will supersede the `--days_in_week` option.  Also, the `--weights` option must be a string representation of a list with exactly seven elements, and where each of them has to be either an integer, or a real number."
   ]
  },
  {
   "cell_type": "markdown",
   "metadata": {},
   "source": [
    "Finally, we can also specify a different daily budget to use for each day of the week with the `--amounts` option:"
   ]
  },
  {
   "cell_type": "code",
   "execution_count": null,
   "metadata": {},
   "outputs": [
    {
     "name": "stdout",
     "output_type": "stream",
     "text": [
      "21.0\n"
     ]
    }
   ],
   "source": [
    "! budget 1 20230813 20230902 --amounts '[1,2,1,1,1,1,0]' --days_in_week 7"
   ]
  },
  {
   "cell_type": "markdown",
   "metadata": {},
   "source": [
    "**Note**: When the `--amounts` option is used, it will supersede the `budget` amount (the '1' in the above example) that we have specified.  The `--amounts` option must be a string representation of a list with exactly seven elements, and where each of them has to be either an integer, or a real number."
   ]
  },
  {
   "cell_type": "markdown",
   "metadata": {},
   "source": [
    "If you need help on the usage, you can type the following command (excluding the exclamation mark) in your terminal:"
   ]
  },
  {
   "cell_type": "code",
   "execution_count": null,
   "metadata": {},
   "outputs": [
    {
     "name": "stdout",
     "output_type": "stream",
     "text": [
      "usage: budget [-h] [--days_in_week DAYS_IN_WEEK] [--weights WEIGHTS]\n",
      "              [--amounts AMOUNTS]\n",
      "              budget start_date end_date\n",
      "\n",
      "Return the total budget for the calculation period from the start date to the\n",
      "end date (inclusive).\n",
      "\n",
      "positional arguments:\n",
      "  budget                       The budget amount per day\n",
      "  start_date                   The start date of the calculation period; it is\n",
      "                               expected to be in the ISO 8601 format\n",
      "  end_date                     The end date of the calculation period; it is\n",
      "                               expected to be in the ISO 8601 format\n",
      "\n",
      "options:\n",
      "  -h, --help                   show this help message and exit\n",
      "  --days_in_week DAYS_IN_WEEK  The number of consecutive days in a week\n",
      "                               (starting from Monday) to include in the budget\n",
      "                               (default: 6)\n",
      "  --weights WEIGHTS            The weight to apply for each day of a week, and\n",
      "                               specified as '[x0, .. , xn]', where x0..xn are\n",
      "                               numbers; this will override --days_in_week\n",
      "  --amounts AMOUNTS            The budget amount for each day of a week, and\n",
      "                               specified as '[x0, .. , xn]', where x0..xn are\n",
      "                               numbers; the budget amount per day that was\n",
      "                               specified will be ignored\n"
     ]
    }
   ],
   "source": [
    "! budget -h"
   ]
  },
  {
   "cell_type": "code",
   "execution_count": null,
   "metadata": {},
   "outputs": [],
   "source": []
  }
 ],
 "metadata": {
  "kernelspec": {
   "display_name": "python3",
   "language": "python",
   "name": "python3"
  }
 },
 "nbformat": 4,
 "nbformat_minor": 4
}
